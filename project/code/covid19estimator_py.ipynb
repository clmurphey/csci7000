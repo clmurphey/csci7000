{
 "cells": [
  {
   "cell_type": "markdown",
   "id": "3a4a4cff",
   "metadata": {},
   "source": [
    "# CSCI 7000 / CMMID - Final Project\n",
    "- **Author**: Corey Lynn Murphey\n",
    "- **Professor**: Dan Larremore\n",
    "- **Deadline**: 10 May 2023\n",
    "\n",
    "\n",
    "## COVID-19 Aerosol Transmission Estimator, Python Edition"
   ]
  },
  {
   "cell_type": "markdown",
   "id": "eb9be225",
   "metadata": {},
   "source": [
    "Based on the spreadsheet from: \n",
    "- Jimenez, J. L. & Peng, Z. COVID-19 Aerosol Transmission Estimator. https://tinyurl.com/covid-estimator (version : 21-Mar-22)."
   ]
  },
  {
   "cell_type": "markdown",
   "id": "c4293427",
   "metadata": {
    "tags": []
   },
   "source": [
    "## Import Libraries"
   ]
  },
  {
   "cell_type": "code",
   "execution_count": 1,
   "id": "01b055fb",
   "metadata": {
    "tags": []
   },
   "outputs": [],
   "source": [
    "import numpy as np\n",
    "import scipy as sp\n",
    "import pandas as pd\n",
    "import matplotlib.pyplot as plt"
   ]
  },
  {
   "cell_type": "markdown",
   "id": "7c2125c7",
   "metadata": {},
   "source": [
    "### Unit Conversions"
   ]
  },
  {
   "cell_type": "code",
   "execution_count": 2,
   "id": "41492a65-423f-4be5-8df4-4bcd2d989d26",
   "metadata": {
    "tags": []
   },
   "outputs": [],
   "source": [
    "sec_per_min = 60\n",
    "min_per_hour = 60\n",
    "L_per_m3  = 1000\n",
    "C_to_Kelvin = 273.15 \n",
    "ft_per_meter = 3.28084\n",
    "ft_to_meter = .305 # 1 ft = .305 meters"
   ]
  },
  {
   "cell_type": "markdown",
   "id": "a2789f64-5c4f-4e12-b156-a944b665e415",
   "metadata": {
    "tags": []
   },
   "source": [
    "# Functions -> to use to convert spreadsheet to notebook"
   ]
  },
  {
   "cell_type": "code",
   "execution_count": 3,
   "id": "c551f738-1d32-436a-8ac3-b61c994f0636",
   "metadata": {
    "tags": []
   },
   "outputs": [],
   "source": [
    "def netEmissionRate_fx(infectedQuantaExhalationRate, exhalationMaskEfficiency, propPeopleWithMasks, I_0):\n",
    "    netEmissRate = infectedQuantaExhalationRate * (1 - exhalationMaskEfficiency*propPeopleWithMasks)*I_0 # infectious doses (quanta) h-1\n",
    "    return netEmissRate\n",
    "\n",
    "def avgQuantaConcentration_fx(netEmissionRate, firstOrderLossRate, volumeRoom, eventDuration):\n",
    "    avgQuantaConcentration = netEmissionRate/firstOrderLossRate/volumeRoom*(1-(1/firstOrderLossRate/eventDuration)*(1-np.exp(-firstOrderLossRate*eventDuration))) # infectious doses (quanta) m-3\n",
    "    return avgQuantaConcentration\n",
    "\n",
    "def quantaInhaledPerPerson_fx(avgQuantaConcentration, breathingRate, propPeopleWithMasks, inhalationMaskEfficiency, eventDuration):\n",
    "    quantaInhaledPerPerson = avgQuantaConcentration*breathingRate*eventDuration*(1 - propPeopleWithMasks*inhalationMaskEfficiency) # infectious doses (quanta)\n",
    "    return quantaInhaledPerPerson\n",
    "\n",
    "def probabilityOfInfection(quantaInhaledPerPerson):\n",
    "    #Conditional Results for A GIVEN PERSON & ONE EVENT (assuming number of infected above, typically 1)\n",
    "    probOfInf = 1 - np.exp(-quantaInhaledPerPerson)\n",
    "    return probOfInf\n",
    "\n",
    "def newCases(probOfInf, S_0):\n",
    "    # Conditional Results for ALL ATTENDEES & ONE EVENT (assuming number of infected above, typically 1\n",
    "    numNewCases = probOfInf * S_0\n",
    "    return numNewCases\n",
    "\n",
    "# Airborne Infection Risk Parameters (From Peng et al., 2022)\n",
    "def infectionRisk(relBreathingRateFactor, vocalEnhancement, exhalationMaskEfficiency, propPeopleWithMasks, inhalationMaskEfficiency, S_0, volumeRoom, firstOrderLossRate, eventDuration):\n",
    "    infRiskParam = relBreathingRateFactor * vocalEnhancement * (1-exhalationMaskEfficiency*propPeopleWithMasks)*(1-propPeopleWithMasks*inhalationMaskEfficiency)*eventDuration*S_0/(firstOrderLossRate*volumeRoom)*(1-(1-np.exp(-firstOrderLossRate*eventDuration))/(firstOrderLossRate*eventDuration))\n",
    "    return infRiskParam\n",
    "\n",
    "def relInfectionRisk(infRiskParam, S_0):\n",
    "    relInfRiskParam = infRiskParam/S_0\n",
    "    return relInfRiskParam"
   ]
  },
  {
   "cell_type": "code",
   "execution_count": 4,
   "id": "d0f847e5-fe58-4427-8be9-0c6fc7cd387b",
   "metadata": {
    "tags": []
   },
   "outputs": [],
   "source": [
    "def main(roomParams, envParams, \n",
    "                           occupants, eventParams, \n",
    "                           breathParams, enhancements, \n",
    "                           masking, ventilation, \n",
    "                           pathogenParams): \n",
    "    lengthRoom, widthRoom, heightRoom = roomParams\n",
    "    \n",
    "    floorArea = lengthRoom * widthRoom\n",
    "    volumeRoom = lengthRoom * widthRoom * heightRoom\n",
    "    \n",
    "    #environment\n",
    "    pressure, temperature, relativeHumidity, backgroundCO2 = envParams\n",
    "    \n",
    "    #occupants\n",
    "    numPeople, I_0, s_0 = occupants \n",
    "    S_0 = (numPeople - I_0)*(1 - s_0) #number of susceptible people at time 0\n",
    "    \n",
    "    # densities\n",
    "    density_AreaPerPerson = floorArea/(0.305**2)/numPeople #sq ft / person # TODO : Why hard coded? \n",
    "    density_PeoplePerArea = numPeople/floorArea\n",
    "    density_VolumePerPerson = volumeRoom/numPeople\n",
    "    \n",
    "    #breathing\n",
    "    breathingRate, basicBreathingRate, co2EmissionRate_person = breathParams\n",
    "    relBreathingRateFactor = breathingRate/basicBreathingRate\n",
    "    co2EmissionRate_total = co2EmissionRate_person*numPeople*(1/pressure)*(C_to_Kelvin+temperature)/C_to_Kelvin # L/s (@ at actual P & T of room)\n",
    "    \n",
    "    #enhancement\n",
    "    quantaExhalationRate, variantEnhancement, vocalEnhancement = enhancements\n",
    "    infectedQuantaExhalationRate = quantaExhalationRate * variantEnhancement * vocalEnhancement\n",
    "    \n",
    "    #masking\n",
    "    exhalationMaskEfficiency, propPeopleWithMasks,inhalationMaskEfficiency = masking\n",
    "    \n",
    "    #event\n",
    "    eventDuration_mins, eventRepetitions = eventParams\n",
    "    eventDuration = eventDuration_mins/min_per_hour # hours\n",
    "\n",
    "    #ventilation\n",
    "    ventilationRate, virusDecayRate, depositionRate, additionalControlMeasureRate = ventilation\n",
    "    \n",
    "    firstOrderLossRate = ventilationRate + virusDecayRate + depositionRate + additionalControlMeasureRate\n",
    "    ventilationPerPerson = (volumeRoom * (ventilationRate + additionalControlMeasureRate)/numPeople) # [m^3/hour/person] \n",
    "    ventilationPerPerson = ventilationPerPerson*L_per_m3/(sec_per_min * min_per_hour) # [L/s/person]\n",
    "\n",
    "    # # pathogen, Not yet used\n",
    "    # probInfective, hospitalizationRate, deathRate = pathogenParams\n",
    "    \n",
    "    # -------------- Outputs\n",
    "    netEmissionRate = netEmissionRate_fx(infectedQuantaExhalationRate, exhalationMaskEfficiency, propPeopleWithMasks, I_0)\n",
    "    avgQuantaConcentration = avgQuantaConcentration_fx(netEmissionRate, firstOrderLossRate, volumeRoom, eventDuration)\n",
    "    quantaInhaledPerPerson = quantaInhaledPerPerson_fx(avgQuantaConcentration, breathingRate, propPeopleWithMasks, inhalationMaskEfficiency, eventDuration)\n",
    "\n",
    "    probOfInf = probabilityOfInfection(quantaInhaledPerPerson)\n",
    "    numNewCases = newCases(probOfInf, S_0)\n",
    "    infRiskParam = infectionRisk(relBreathingRateFactor, vocalEnhancement, exhalationMaskEfficiency, propPeopleWithMasks, inhalationMaskEfficiency, S_0, volumeRoom, firstOrderLossRate, eventDuration)\n",
    "    relInfRiskParam = relInfectionRisk(infRiskParam, S_0)\n",
    "    \n",
    "    return netEmissionRate, avgQuantaConcentration, quantaInhaledPerPerson, probOfInf, numNewCases, infRiskParam, relInfRiskParam\n",
    "\n",
    "\n",
    "def printTheResults(netEmissionRate, avgQuantaConcentration, quantaInhaledPerPerson, probOfInf, numNewCases, infRiskParam, relInfRiskParam):\n",
    "    print(\"The net emission rate is {}\".format(netEmissionRate))\n",
    "    print(\"The average quanta concentration is {}\".format(avgQuantaConcentration))\n",
    "    print(\"The quanta inhalation per person is {}\".format(quantaInhaledPerPerson))\n",
    "    print(\"----------\")\n",
    "    print(\"The probability of infection is {}\".format( probOfInf))\n",
    "    print(\"The number of new cases is {}\".format(numNewCases))\n",
    "    print(\"The infection risk is {} [h^2*person/m^3]\".format(infRiskParam))\n",
    "    print(\"The relative infection risk  is {}[h^2/m^3]\".format(relInfRiskParam))\n",
    "\n",
    "    "
   ]
  },
  {
   "cell_type": "markdown",
   "id": "e9ad9397-baa8-4f90-ad2d-5f73b158d3f6",
   "metadata": {
    "tags": []
   },
   "source": [
    "# Master Example - Choir\n",
    "Based on the Skagit Valley Choir"
   ]
  },
  {
   "cell_type": "markdown",
   "id": "b4328b9a",
   "metadata": {
    "tags": []
   },
   "source": [
    "## Parameters"
   ]
  },
  {
   "cell_type": "markdown",
   "id": "47ed0d73",
   "metadata": {
    "tags": []
   },
   "source": [
    "### Room Parameters"
   ]
  },
  {
   "cell_type": "code",
   "execution_count": 5,
   "id": "0371c36a",
   "metadata": {
    "tags": []
   },
   "outputs": [],
   "source": [
    "lengthRoom = 9.2 # m\n",
    "widthRoom = 18.3 # m\n",
    "heightRoom = 4.8 # m \n",
    "\n",
    "floorArea = lengthRoom * widthRoom\n",
    "volumeRoom = lengthRoom * widthRoom * heightRoom"
   ]
  },
  {
   "cell_type": "markdown",
   "id": "becea83b",
   "metadata": {
    "tags": []
   },
   "source": [
    "### Environmental Parameters"
   ]
  },
  {
   "cell_type": "code",
   "execution_count": 6,
   "id": "0a24bedb",
   "metadata": {
    "tags": []
   },
   "outputs": [],
   "source": [
    "pressure = 0.95 #atm, Used only for CO2 calculation\n",
    "temperature = 20 # C, Use web converter if needed for F --> C. Used for CO2 calculation, eventually for survival rate of virus\n",
    "relativeHumidity = 50 # percentage, Not yet used, but may eventually be used for survival rate of virus\n",
    "backgroundCO2 = 415 # ppm "
   ]
  },
  {
   "cell_type": "markdown",
   "id": "ea914819",
   "metadata": {
    "tags": []
   },
   "source": [
    "### Occupants"
   ]
  },
  {
   "cell_type": "code",
   "execution_count": 7,
   "id": "5c8a4aef",
   "metadata": {
    "tags": []
   },
   "outputs": [],
   "source": [
    "numPeople = 61\n",
    "\n",
    "# N.B. Modified variable names to correspond with SIR models\n",
    "I_0 = 1 # number of infected people at time 0\n",
    "s_0 = 0 # fraction of people susceptible at time 0 \n",
    "S_0 = (numPeople - I_0)*(1 - s_0) #number of susceptible people at time 0\n",
    "\n",
    "# display(S_0)\n",
    "\n",
    "density_AreaPerPerson = floorArea/(ft_to_meter**2)/numPeople #sq ft / person \n",
    "density_PeoplePerArea = numPeople/floorArea\n",
    "density_VolumePerPerson = volumeRoom/numPeople\n",
    "\n",
    "# display(density_AreaPerPerson)\n",
    "# display(density_PeoplePerArea)\n",
    "# display(density_VolumePerPerson)"
   ]
  },
  {
   "cell_type": "markdown",
   "id": "29e480fc-1ccc-4bf8-a20b-40368d8d991f",
   "metadata": {
    "tags": []
   },
   "source": [
    "#### Breath parameters"
   ]
  },
  {
   "cell_type": "code",
   "execution_count": 8,
   "id": "80c99f8b-3e26-4e4f-9fbd-a31efd10a5ac",
   "metadata": {
    "tags": []
   },
   "outputs": [],
   "source": [
    "breathingRate = 0.026 * min_per_hour #See Readme sheet  - varies a lot with activity level\n",
    "# as best as I can tell, this comes from a moderate intensity breath rate for people ages 16 - 21\n",
    "# but I'm not really sure where this number comes from \n",
    "\n",
    "basicBreathingRate = 0.0048 * min_per_hour # m3 / h, for a sedentary person in the 41 - 51 age groups (ASSUMPTION)\n",
    "relBreathingRateFactor = breathingRate/basicBreathingRate\n",
    "\n",
    "co2EmissionRate_person = 0.0091 # L/s (@ 273 K and 1 atm), From tables in Readme page. This does not affect infection calculation, only use of CO2 as indicator, could ignore\n",
    "# could be completely incorrect for singing\n",
    "# if 41-51 age range still applies, this means that the people are doin about 2-3 met of physical activity\n",
    "co2EmissionRate_total = co2EmissionRate_person*numPeople*(1/pressure)*(C_to_Kelvin+temperature)/C_to_Kelvin # L/s (@ at actual P & T of room)\n",
    "\n",
    "# display(relBreathingRateFactor)\n",
    "# display(co2EmissionRate_total)"
   ]
  },
  {
   "cell_type": "code",
   "execution_count": 9,
   "id": "d2b8791f-4979-4a07-b683-89f57ad2e8c6",
   "metadata": {
    "tags": []
   },
   "outputs": [],
   "source": [
    "quantaExhalationRate = 18.6 # infectious doses (quanta) h-1, this is very uncertain\n",
    "# The 5th and 95th percentiles of the Ep0 values are 8.4 and 48.1 quanta h−1, respectively.(Peng 2022)\n",
    "variantEnhancement = 1 # Q. enhancement due to variants\n",
    "vocalEnhancement = 52.15 # Q enhancement due to vocal. & act., Dimensionless (ratio to breathing)\n",
    "# this value was not cited so I don't know where this came from\n",
    "\n",
    "infectedQuantaExhalationRate = quantaExhalationRate * variantEnhancement * vocalEnhancement\n",
    "\n",
    "# display(infectedQuantaExhalationRate)"
   ]
  },
  {
   "cell_type": "markdown",
   "id": "ccfc26fa-0c40-4cf2-9185-2c26a4489f2e",
   "metadata": {
    "tags": []
   },
   "source": [
    "##### Masking (none in this experiment)"
   ]
  },
  {
   "cell_type": "code",
   "execution_count": 10,
   "id": "cb219b19-c009-496b-beea-43e91a3848af",
   "metadata": {
    "tags": []
   },
   "outputs": [],
   "source": [
    "exhalationMaskEfficiency = 0\n",
    "propPeopleWithMasks = 0\n",
    "inhalationMaskEfficiency = 0 "
   ]
  },
  {
   "cell_type": "markdown",
   "id": "3e0968ee",
   "metadata": {
    "tags": []
   },
   "source": [
    "### Event Parameters"
   ]
  },
  {
   "cell_type": "code",
   "execution_count": 11,
   "id": "47974d8a",
   "metadata": {
    "tags": []
   },
   "outputs": [],
   "source": [
    "eventDuration_mins = 150\n",
    "eventDuration = eventDuration_mins/min_per_hour # hours\n",
    "eventRepetitions = 1 # if multiple meetings\n",
    "\n",
    "# ventilation,  ventilation rate of 1 h-1 does not mean that 100% of the air is replaced in 1 h.\n",
    "ventilationRate = 0.7 # h^-1, this may be low\n",
    "virusDecayRate = 0.62 # h^-1, from literature. Uncertain parameter\n",
    "depositionRate = 0.3 # h^-1,  Buonnano et al. (2020), Miller et al. (2020). Could vary 0.24-1.5 h-1, depending on particle size range\n",
    "additionalControlMeasureRate = 0 # h^-1, E.g. filtering of recirc. air, HEPA air cleaner, UV disinfection, etc. \n",
    "\n",
    "# Loss Rate\n",
    "firstOrderLossRate = ventilationRate + virusDecayRate + depositionRate + additionalControlMeasureRate"
   ]
  },
  {
   "cell_type": "code",
   "execution_count": 12,
   "id": "0661b8c6",
   "metadata": {
    "tags": []
   },
   "outputs": [],
   "source": [
    "ventilationPerPerson = (volumeRoom * (ventilationRate + additionalControlMeasureRate)/numPeople) # [m^3/hour/person] \n",
    "ventilationPerPerson = ventilationPerPerson*L_per_m3/(sec_per_min * min_per_hour) # [L/s/person]\n",
    "\n",
    "# display(ventilationPerPerson)"
   ]
  },
  {
   "cell_type": "markdown",
   "id": "636dc6ea-3674-4aab-a31c-0918d3845f4d",
   "metadata": {
    "tags": []
   },
   "source": [
    "### Pathogen Parameters"
   ]
  },
  {
   "cell_type": "markdown",
   "id": "de1c032a-7835-46d8-a0d8-614bc6173dca",
   "metadata": {},
   "source": [
    "For now, for COVID-19..."
   ]
  },
  {
   "cell_type": "code",
   "execution_count": 13,
   "id": "8b8b485a-0220-48af-bef6-55d899a04422",
   "metadata": {
    "tags": []
   },
   "outputs": [],
   "source": [
    "probInfective =7*2/129200 # %, Very important parameter, specific for each region and time period. For ABSOLUTE results (prob. given prevalence of disease in the population). See Readme sheet\n",
    "# this is highly dependent on phase of epidemic and region \n",
    "\n",
    "hospitalizationRate = 20/100\n",
    "deathRate = 4/100\n",
    "\n",
    "# for this example, this is probably an artificially tuned"
   ]
  },
  {
   "cell_type": "markdown",
   "id": "8a58af4c-cc05-4d08-b32a-71b87487c302",
   "metadata": {
    "tags": []
   },
   "source": [
    "## Model Outputs"
   ]
  },
  {
   "cell_type": "code",
   "execution_count": 14,
   "id": "3b88eab0-6580-4cfe-bdf5-be540c2e2436",
   "metadata": {
    "tags": []
   },
   "outputs": [
    {
     "name": "stdout",
     "output_type": "stream",
     "text": [
      "The net emission rate is 969.99\n",
      "The average quanta concentration is 0.5611650901148105\n",
      "The quanta inhalation per person is 2.188543851447761\n",
      "----------\n",
      "The probability of infection is 0.8879201652612078\n",
      "The number of new cases is 53.27520991567246\n",
      "The infection risk is 24.513259984853953 [h^2*person/m^3]\n",
      "The relative infection risk  is 0.4085543330808992[h^2/m^3]\n"
     ]
    }
   ],
   "source": [
    "roomParams = lengthRoom, widthRoom, heightRoom\n",
    "envParams = pressure, temperature, relativeHumidity, backgroundCO2 \n",
    "occupants = numPeople, I_0, s_0\n",
    "eventParams = eventDuration_mins, eventRepetitions\n",
    "breathParams = breathingRate, basicBreathingRate, co2EmissionRate_person \n",
    "enhancements = quantaExhalationRate, variantEnhancement, vocalEnhancement\n",
    "masking= exhalationMaskEfficiency, propPeopleWithMasks,inhalationMaskEfficiency\n",
    "ventilation = ventilationRate, virusDecayRate, depositionRate, additionalControlMeasureRate \n",
    "pathogenParams = probInfective, hospitalizationRate, deathRate \n",
    "\n",
    "choirParams = [volumeRoom, numPeople, I_0, eventDuration_mins, eventRepetitions, propPeopleWithMasks, firstOrderLossRate]\n",
    "netEmissionRate, avgQuantaConcentration, quantaInhaledPerPerson, probOfInf, numNewCases, infRiskParam, relInfRiskParam = main(roomParams, envParams, occupants, eventParams, breathParams, enhancements, masking, ventilation, pathogenParams)\n",
    "\n",
    "choirRes = [netEmissionRate, avgQuantaConcentration, quantaInhaledPerPerson, probOfInf, numNewCases, infRiskParam, relInfRiskParam]\n",
    "\n",
    "printTheResults(netEmissionRate, avgQuantaConcentration, quantaInhaledPerPerson, probOfInf, numNewCases, infRiskParam, relInfRiskParam)"
   ]
  },
  {
   "cell_type": "markdown",
   "id": "5ffa48fe-1363-45e8-81ce-85523c16b85d",
   "metadata": {
    "tags": []
   },
   "source": [
    "# Classroom Example"
   ]
  },
  {
   "cell_type": "markdown",
   "id": "3d3211d5-521f-4831-ab2c-03af8073234e",
   "metadata": {
    "tags": []
   },
   "source": [
    "### Room Parameters"
   ]
  },
  {
   "cell_type": "code",
   "execution_count": 15,
   "id": "e366f0ad-6527-4757-9307-d3c1f158afe0",
   "metadata": {
    "tags": []
   },
   "outputs": [],
   "source": [
    "lengthRoom = 7.6 # m\n",
    "widthRoom = 6.1 # m\n",
    "heightRoom = 3.1 # m \n",
    "\n",
    "floorArea = lengthRoom * widthRoom\n",
    "volumeRoom = lengthRoom * widthRoom * heightRoom"
   ]
  },
  {
   "cell_type": "markdown",
   "id": "1dfa8219-6b7f-47d0-ba57-3a76e8754049",
   "metadata": {
    "tags": []
   },
   "source": [
    "### Environmental Parameters"
   ]
  },
  {
   "cell_type": "code",
   "execution_count": 16,
   "id": "6fe3fc1b-f65a-4cb3-bd58-587f69ad5478",
   "metadata": {
    "tags": []
   },
   "outputs": [],
   "source": [
    "pressure = 0.95 #atm, Used only for CO2 calculation\n",
    "temperature = 20 # C, Use web converter if needed for F --> C. Used for CO2 calculation, eventually for survival rate of virus\n",
    "relativeHumidity = 50 # percentage, Not yet used, but may eventually be used for survival rate of virus\n",
    "backgroundCO2 = 415 # ppm "
   ]
  },
  {
   "cell_type": "markdown",
   "id": "5d5ae335-335a-4ff1-adad-c0a66c523c1f",
   "metadata": {
    "tags": []
   },
   "source": [
    "### Occupants"
   ]
  },
  {
   "cell_type": "code",
   "execution_count": 17,
   "id": "703b7a17-874a-46a0-b686-ff8035da6b17",
   "metadata": {
    "tags": []
   },
   "outputs": [],
   "source": [
    "numPeople = 10\n",
    "\n",
    "# N.B. Modified variable names to correspond with SIR models\n",
    "I_0 = 1 # number of infected people at time 0\n",
    "s_0 = 0 # fraction of people susceptible at time 0 \n",
    "S_0 = (numPeople - I_0)*(1 - s_0) #number of susceptible people at time 0\n",
    "\n",
    "# display(S_0)\n",
    "\n",
    "density_AreaPerPerson = floorArea/(ft_to_meter**2)/numPeople #sq ft / person \n",
    "density_PeoplePerArea = numPeople/floorArea\n",
    "density_VolumePerPerson = volumeRoom/numPeople\n",
    "\n",
    "# display(density_AreaPerPerson)\n",
    "# display(density_PeoplePerArea)\n",
    "# display(density_VolumePerPerson)"
   ]
  },
  {
   "cell_type": "markdown",
   "id": "c679eb75-f41e-4521-8ef9-ace201475155",
   "metadata": {
    "tags": []
   },
   "source": [
    "#### Breath parameters"
   ]
  },
  {
   "cell_type": "code",
   "execution_count": 18,
   "id": "44260915-8d69-42e8-8a24-c48e721ec396",
   "metadata": {
    "tags": []
   },
   "outputs": [],
   "source": [
    "breathingRate = 0.0086 * min_per_hour #See Readme sheet  - varies a lot with activity level\n",
    "# as best as I can tell, this comes from a moderate intensity breath rate for people ages 16 - 21\n",
    "# but I'm not really sure where this number comes from \n",
    "# Why is this value higher than the choir? \n",
    "\n",
    "basicBreathingRate = 0.0048 * min_per_hour # m3 / h, for a sedentary person in the 41 - 51 age groups (ASSUMPTION)\n",
    "relBreathingRateFactor = breathingRate/basicBreathingRate\n",
    "\n",
    "co2EmissionRate_person = 0.005 # L/s (@ 273 K and 1 atm), From tables in Readme page. This does not affect infection calculation, only use of CO2 as indicator, could ignore\n",
    "# could be completely incorrect for singing\n",
    "co2EmissionRate_total = co2EmissionRate_person*numPeople*(1/pressure)*(C_to_Kelvin+temperature)/C_to_Kelvin # L/s (@ at actual P & T of room)\n",
    "\n",
    "# display(relBreathingRateFactor)\n",
    "# display(co2EmissionRate_total)"
   ]
  },
  {
   "cell_type": "code",
   "execution_count": 19,
   "id": "e78c3f39-6bfb-4044-9f0a-9ea920642efc",
   "metadata": {
    "tags": []
   },
   "outputs": [],
   "source": [
    "quantaExhalationRate = 18.6 # infectious doses (quanta) h-1, this is very uncertain\n",
    "# The 5th and 95th percentiles of the Ep0 values are 8.4 and 48.1 quanta h−1, respectively.(Peng 2022)\n",
    "variantEnhancement = 2.5 # Q. enhancement due to variants (omicron here)\n",
    "vocalEnhancement = 1.3 # Q enhancement due to vocal. & act., Dimensionless (ratio to breathing)\n",
    "# this value was not cited so I don't know where this came from\n",
    "\n",
    "infectedQuantaExhalationRate = quantaExhalationRate * variantEnhancement * vocalEnhancement\n",
    "\n",
    "# display(infectedQuantaExhalationRate)"
   ]
  },
  {
   "cell_type": "markdown",
   "id": "b5501d66-36be-4d53-a247-ad5bfd65462c",
   "metadata": {
    "tags": []
   },
   "source": [
    "##### Masking (none in this experiment)"
   ]
  },
  {
   "cell_type": "code",
   "execution_count": 20,
   "id": "99a2485d-70de-47d2-8f19-b06b4321df01",
   "metadata": {
    "tags": []
   },
   "outputs": [],
   "source": [
    "exhalationMaskEfficiency = 0.5\n",
    "propPeopleWithMasks = 1\n",
    "inhalationMaskEfficiency = 0.3"
   ]
  },
  {
   "cell_type": "markdown",
   "id": "41088132-322b-46fa-b8c7-dc64a73c886e",
   "metadata": {
    "tags": []
   },
   "source": [
    "### Event Parameters"
   ]
  },
  {
   "cell_type": "code",
   "execution_count": 21,
   "id": "adf35919-7e0f-4caf-aad6-a8eb1efd4d81",
   "metadata": {
    "tags": []
   },
   "outputs": [],
   "source": [
    "eventDuration_mins = 50\n",
    "eventDuration = eventDuration_mins/min_per_hour # hours\n",
    "# eventRepetitions = 180 # number of classes met per school year\n",
    "eventRepetitions = 1 \n",
    "\n",
    "# ventilation,  ventilation rate of 1 h-1 does not mean that 100% of the air is replaced in 1 h.\n",
    "ventilationRate = 3 # h^-1, this may be low\n",
    "virusDecayRate = 0.62 # h^-1, from literature. Uncertain parameter\n",
    "depositionRate = 0.3 # h^-1,  Buonnano et al. (2020), Miller et al. (2020). Could vary 0.24-1.5 h-1, depending on particle size range\n",
    "additionalControlMeasureRate = 0 # h^-1, E.g. filtering of recirc. air, HEPA air cleaner, UV disinfection, etc. \n",
    "\n",
    "# Loss Rate\n",
    "firstOrderLossRate = ventilationRate + virusDecayRate + depositionRate + additionalControlMeasureRate"
   ]
  },
  {
   "cell_type": "code",
   "execution_count": 22,
   "id": "1f18e057-664e-486b-993e-681df80ec786",
   "metadata": {
    "tags": []
   },
   "outputs": [],
   "source": [
    "ventilationPerPerson = (volumeRoom * (ventilationRate + additionalControlMeasureRate)/numPeople) # [m^3/hour/person] \n",
    "ventilationPerPerson = ventilationPerPerson*L_per_m3/(sec_per_min * min_per_hour) # [L/s/person]\n",
    "\n",
    "# display(ventilationPerPerson)"
   ]
  },
  {
   "cell_type": "markdown",
   "id": "ec274352-5816-4028-9ab4-0e06ec4fe8de",
   "metadata": {
    "tags": []
   },
   "source": [
    "### Pathogen Parameters"
   ]
  },
  {
   "cell_type": "markdown",
   "id": "4b01a375-9ef6-4bee-b3f2-755efbe190ed",
   "metadata": {},
   "source": [
    "For now, for COVID-19, Omicron variant"
   ]
  },
  {
   "cell_type": "code",
   "execution_count": 23,
   "id": "eb494d47-6d92-4b69-b357-d6bd1a4ca029",
   "metadata": {
    "tags": []
   },
   "outputs": [],
   "source": [
    "probInfective =0.002 # %, Very important parameter, specific for each region and time period. For ABSOLUTE results (prob. given prevalence of disease in the population). See Readme sheet\n",
    "# this is highly dependent on phase of epidemic and region \n",
    "\n",
    "hospitalizationRate = 10/100\n",
    "deathRate = 1/100\n",
    "\n",
    "# for this example, this is probably an artificially tuned"
   ]
  },
  {
   "cell_type": "markdown",
   "id": "462a0978-aaf2-4660-b592-51a06c91cece",
   "metadata": {},
   "source": [
    "## Model Outputs"
   ]
  },
  {
   "cell_type": "markdown",
   "id": "d5f7535d-6f8b-495c-bdb2-127a3e2ed56f",
   "metadata": {},
   "source": [
    "### Main (calculate baseline emissions)"
   ]
  },
  {
   "cell_type": "code",
   "execution_count": 24,
   "id": "53297df5-23ef-4427-8957-041beb48705f",
   "metadata": {
    "tags": []
   },
   "outputs": [
    {
     "name": "stdout",
     "output_type": "stream",
     "text": [
      "The net emission rate is 30.225\n",
      "The average quanta concentration is 0.03785328236827028\n",
      "The quanta inhalation per person is 0.011393837992849353\n",
      "----------\n",
      "The probability of infection is 0.011329174043938961\n",
      "The number of new cases is 0.10196256639545065\n",
      "The infection risk is 0.007657149188742846 [h^2*person/m^3]\n",
      "The relative infection risk  is 0.0008507943543047606[h^2/m^3]\n"
     ]
    }
   ],
   "source": [
    "roomParams = lengthRoom, widthRoom, heightRoom\n",
    "envParams = pressure, temperature, relativeHumidity, backgroundCO2 \n",
    "occupants = numPeople, I_0, s_0\n",
    "eventParams = eventDuration_mins, eventRepetitions\n",
    "breathParams = breathingRate, basicBreathingRate, co2EmissionRate_person \n",
    "enhancements = quantaExhalationRate, variantEnhancement, vocalEnhancement\n",
    "masking= exhalationMaskEfficiency, propPeopleWithMasks,inhalationMaskEfficiency\n",
    "ventilation = ventilationRate, virusDecayRate, depositionRate, additionalControlMeasureRate \n",
    "pathogenParams = probInfective, hospitalizationRate, deathRate \n",
    "\n",
    "classParams = [volumeRoom, numPeople, I_0, eventDuration_mins, eventRepetitions, propPeopleWithMasks, firstOrderLossRate]\n",
    "\n",
    "netEmissionRate, avgQuantaConcentration, quantaInhaledPerPerson, probOfInf, numNewCases, infRiskParam, relInfRiskParam = main(roomParams, envParams, occupants, eventParams, breathParams, enhancements, masking, ventilation, pathogenParams)\n",
    "\n",
    "classRes = [netEmissionRate, avgQuantaConcentration, quantaInhaledPerPerson, probOfInf, numNewCases, infRiskParam, relInfRiskParam]\n",
    "\n",
    "printTheResults(netEmissionRate, avgQuantaConcentration, quantaInhaledPerPerson, probOfInf, numNewCases, infRiskParam, relInfRiskParam)"
   ]
  },
  {
   "cell_type": "markdown",
   "id": "f7796093-fa31-4ef5-aa08-3faf6bc5c20c",
   "metadata": {
    "tags": []
   },
   "source": [
    "# Subway Example"
   ]
  },
  {
   "cell_type": "markdown",
   "id": "781a3e20-5aba-4954-8324-8e718cfe9625",
   "metadata": {
    "tags": []
   },
   "source": [
    "### Room Parameters"
   ]
  },
  {
   "cell_type": "code",
   "execution_count": 25,
   "id": "803cac7e-b51a-4c4f-9d3b-99f4b61b1b77",
   "metadata": {
    "tags": []
   },
   "outputs": [],
   "source": [
    "lengthRoom = 13.6 # m\n",
    "widthRoom = 3.1 # m\n",
    "heightRoom = 3.7 # m \n",
    "\n",
    "floorArea = lengthRoom * widthRoom\n",
    "volumeRoom = lengthRoom * widthRoom * heightRoom"
   ]
  },
  {
   "cell_type": "markdown",
   "id": "1c39b022-b184-467e-b21c-853d67212c75",
   "metadata": {
    "tags": []
   },
   "source": [
    "### Environmental Parameters"
   ]
  },
  {
   "cell_type": "code",
   "execution_count": 26,
   "id": "58d9ba7b-75a0-4b0e-ba37-71fcf3dd2262",
   "metadata": {
    "tags": []
   },
   "outputs": [],
   "source": [
    "pressure = 0.95 #atm, Used only for CO2 calculation\n",
    "temperature = 20 # C, Use web converter if needed for F --> C. Used for CO2 calculation, eventually for survival rate of virus\n",
    "relativeHumidity = 50 # percentage, Not yet used, but may eventually be used for survival rate of virus\n",
    "backgroundCO2 = 415 # ppm "
   ]
  },
  {
   "cell_type": "markdown",
   "id": "c0784e69-4872-4667-a0e4-c7c1514c5714",
   "metadata": {
    "tags": []
   },
   "source": [
    "### Occupants"
   ]
  },
  {
   "cell_type": "code",
   "execution_count": 27,
   "id": "28424b7f-48ae-4e51-8481-88561ac19f8e",
   "metadata": {
    "tags": []
   },
   "outputs": [],
   "source": [
    "numPeople = 35\n",
    "\n",
    "# N.B. Modified variable names to correspond with SIR models\n",
    "I_0 = 1 # number of infected people at time 0\n",
    "# r_0 = .15\n",
    "r_0 = 0\n",
    "S_0 = (numPeople - I_0)*(1 - r_0) #number of susceptible people at time 0\n",
    "\n",
    "# display(S_0)\n",
    "\n",
    "density_AreaPerPerson = floorArea/(ft_to_meter**2)/numPeople #sq ft / person \n",
    "density_PeoplePerArea = numPeople/floorArea\n",
    "density_VolumePerPerson = volumeRoom/numPeople\n",
    "\n",
    "# display(density_AreaPerPerson)\n",
    "# display(density_PeoplePerArea)\n",
    "# display(density_VolumePerPerson)"
   ]
  },
  {
   "cell_type": "markdown",
   "id": "bd7e5d34-d145-485f-9c74-c183bfa06c26",
   "metadata": {
    "tags": []
   },
   "source": [
    "#### Breath parameters"
   ]
  },
  {
   "cell_type": "code",
   "execution_count": 28,
   "id": "115a1bae-9e1b-4d3e-9247-3a3c57be26ca",
   "metadata": {
    "tags": []
   },
   "outputs": [],
   "source": [
    "breathingRate = 0.007 * min_per_hour #See Readme sheet  - varies a lot with activity level\n",
    "# as best as I can tell, this comes from a moderate intensity breath rate for people ages 16 - 21\n",
    "# but I'm not really sure where this number comes from \n",
    "# Why is this value higher than the choir? \n",
    "\n",
    "basicBreathingRate = 0.0048 * min_per_hour # m3 / h, for a sedentary person in the 41 - 51 age groups (ASSUMPTION)\n",
    "relBreathingRateFactor = breathingRate/basicBreathingRate\n",
    "\n",
    "co2EmissionRate_person = 0.007 # L/s (@ 273 K and 1 atm), From tables in Readme page. This does not affect infection calculation, only use of CO2 as indicator, could ignore\n",
    "# could be completely incorrect for singing\n",
    "co2EmissionRate_total = co2EmissionRate_person*numPeople*(1/pressure)*(C_to_Kelvin+temperature)/C_to_Kelvin # L/s (@ at actual P & T of room)\n",
    "\n",
    "# display(relBreathingRateFactor)\n",
    "# display(co2EmissionRate_total)"
   ]
  },
  {
   "cell_type": "code",
   "execution_count": 29,
   "id": "0fc291e2-282e-469d-9882-cd6e65dc46a6",
   "metadata": {
    "tags": []
   },
   "outputs": [],
   "source": [
    "quantaExhalationRate = 18.6 # infectious doses (quanta) h-1, this is very uncertain\n",
    "# The 5th and 95th percentiles of the Ep0 values are 8.4 and 48.1 quanta h−1, respectively.(Peng 2022)\n",
    "variantEnhancement = 2.5 # Q. enhancement due to variants (omicron here)\n",
    "vocalEnhancement = 1 # Q enhancement due to vocal. & act., Dimensionless (ratio to breathing)\n",
    "# this value was not cited so I don't know where this came from\n",
    "\n",
    "infectedQuantaExhalationRate = quantaExhalationRate * variantEnhancement * vocalEnhancement\n",
    "\n",
    "# display(infectedQuantaExhalationRate)"
   ]
  },
  {
   "cell_type": "markdown",
   "id": "df1e794c-5fd1-4ab8-bc8c-150cad043a55",
   "metadata": {
    "tags": []
   },
   "source": [
    "##### Masking (none in this experiment)"
   ]
  },
  {
   "cell_type": "code",
   "execution_count": 30,
   "id": "7f09c605-7862-4e6b-9520-c59b7fbc27f3",
   "metadata": {
    "tags": []
   },
   "outputs": [],
   "source": [
    "exhalationMaskEfficiency = 0.5\n",
    "propPeopleWithMasks = 1\n",
    "inhalationMaskEfficiency = 0.3"
   ]
  },
  {
   "cell_type": "markdown",
   "id": "fcc6217c-088f-4cff-8a3a-5446889c5ae8",
   "metadata": {
    "tags": []
   },
   "source": [
    "### Event Parameters"
   ]
  },
  {
   "cell_type": "code",
   "execution_count": 31,
   "id": "8428b378-5310-492b-a790-3f7fd84840be",
   "metadata": {
    "tags": []
   },
   "outputs": [],
   "source": [
    "eventDuration_mins = 20\n",
    "eventDuration = eventDuration_mins/min_per_hour # hours\n",
    "# eventRepetitions = 60 # number of subway rides \n",
    "eventRepetitions = 1\n",
    "\n",
    "# ventilation,  ventilation rate of 1 h-1 does not mean that 100% of the air is replaced in 1 h.\n",
    "ventilationRate = 5.7 # h^-1, this may be low\n",
    "virusDecayRate = 0.62 # h^-1, from literature. Uncertain parameter\n",
    "depositionRate = 0.3 # h^-1,  Buonnano et al. (2020), Miller et al. (2020). Could vary 0.24-1.5 h-1, depending on particle size range\n",
    "additionalControlMeasureRate = 3.6 # h^-1, E.g. filtering of recirc. air, HEPA air cleaner, UV disinfection, etc. \n",
    "\n",
    "# Loss Rate\n",
    "firstOrderLossRate = ventilationRate + virusDecayRate + depositionRate + additionalControlMeasureRate"
   ]
  },
  {
   "cell_type": "code",
   "execution_count": 32,
   "id": "b42c457e-4ef4-410b-9351-eb4c092bfce4",
   "metadata": {
    "tags": []
   },
   "outputs": [],
   "source": [
    "ventilationPerPerson = (volumeRoom * (ventilationRate + additionalControlMeasureRate)/numPeople) # [m^3/hour/person] \n",
    "ventilationPerPerson = ventilationPerPerson*L_per_m3/(sec_per_min * min_per_hour) # [L/s/person]\n",
    "\n",
    "# display(ventilationPerPerson)"
   ]
  },
  {
   "cell_type": "markdown",
   "id": "f706370e-bd55-4ff0-970b-0b47708d8494",
   "metadata": {
    "tags": []
   },
   "source": [
    "### Pathogen Parameters"
   ]
  },
  {
   "cell_type": "markdown",
   "id": "86d6097c-deb8-4653-965c-d26d0df5b062",
   "metadata": {},
   "source": [
    "For now, for COVID-19, Omicron variant"
   ]
  },
  {
   "cell_type": "code",
   "execution_count": 33,
   "id": "cc44b50d-f645-44ba-97f9-e4fc6643c377",
   "metadata": {
    "tags": []
   },
   "outputs": [],
   "source": [
    "probInfective =0.001 # %, Very important parameter, specific for each region and time period. For ABSOLUTE results (prob. given prevalence of disease in the population). See Readme sheet\n",
    "# this is highly dependent on phase of epidemic and region \n",
    "\n",
    "hospitalizationRate = 10/100\n",
    "deathRate = 1/100\n",
    "\n",
    "# for this example, this is probably an artificially tuned"
   ]
  },
  {
   "cell_type": "markdown",
   "id": "4ea7ce7d-104a-491f-8042-d4dc7a47d59c",
   "metadata": {},
   "source": [
    "## Model Outputs"
   ]
  },
  {
   "cell_type": "markdown",
   "id": "e28672d0-fa00-403d-b07b-ec52427de7e1",
   "metadata": {},
   "source": [
    "### Main (calculate baseline emissions)"
   ]
  },
  {
   "cell_type": "code",
   "execution_count": 34,
   "id": "97d4d521-1a90-47a0-a2b3-4ed3ac6c91f1",
   "metadata": {
    "tags": []
   },
   "outputs": [
    {
     "name": "stdout",
     "output_type": "stream",
     "text": [
      "The net emission rate is 23.25\n",
      "The average quanta concentration is 0.010444738196364758\n",
      "The quanta inhalation per person is 0.001023584343243746\n",
      "----------\n",
      "The probability of infection is 0.0010230606594833214\n",
      "The number of new cases is 0.034784062422432926\n",
      "The infection risk is 0.0025987057698840634 [h^2*person/m^3]\n",
      "The relative infection risk  is 7.643252264364893e-05[h^2/m^3]\n"
     ]
    }
   ],
   "source": [
    "roomParams = lengthRoom, widthRoom, heightRoom\n",
    "envParams = pressure, temperature, relativeHumidity, backgroundCO2 \n",
    "occupants = numPeople, I_0, s_0\n",
    "eventParams = eventDuration_mins, eventRepetitions\n",
    "breathParams = breathingRate, basicBreathingRate, co2EmissionRate_person \n",
    "enhancements = quantaExhalationRate, variantEnhancement, vocalEnhancement\n",
    "masking= exhalationMaskEfficiency, propPeopleWithMasks,inhalationMaskEfficiency\n",
    "ventilation = ventilationRate, virusDecayRate, depositionRate, additionalControlMeasureRate \n",
    "pathogenParams = probInfective, hospitalizationRate, deathRate \n",
    "\n",
    "subwayParams = [volumeRoom, numPeople, I_0, eventDuration_mins, eventRepetitions, propPeopleWithMasks, firstOrderLossRate]\n",
    "\n",
    "netEmissionRate, avgQuantaConcentration, quantaInhaledPerPerson, probOfInf, numNewCases, infRiskParam, relInfRiskParam = main(roomParams, envParams, occupants, eventParams, breathParams, enhancements, masking, ventilation, pathogenParams)\n",
    "\n",
    "subwayRes = [netEmissionRate, avgQuantaConcentration, quantaInhaledPerPerson, probOfInf, numNewCases, infRiskParam, relInfRiskParam]\n",
    "\n",
    "printTheResults(netEmissionRate, avgQuantaConcentration, quantaInhaledPerPerson, probOfInf, numNewCases, infRiskParam, relInfRiskParam)"
   ]
  },
  {
   "cell_type": "markdown",
   "id": "665f9f84-66b5-40a1-9b69-dc483068f4b0",
   "metadata": {
    "tags": []
   },
   "source": [
    "# Supermarket Example"
   ]
  },
  {
   "cell_type": "markdown",
   "id": "5d03d4d8-45bf-4897-90d0-a62353406a3c",
   "metadata": {
    "tags": []
   },
   "source": [
    "### Room Parameters"
   ]
  },
  {
   "cell_type": "code",
   "execution_count": 35,
   "id": "ff534189-1a1d-46b1-929d-a24cc727f82b",
   "metadata": {
    "tags": []
   },
   "outputs": [],
   "source": [
    "lengthRoom = 24.4 # m\n",
    "widthRoom = 15.3 # m\n",
    "heightRoom = 5.5 # m \n",
    "\n",
    "floorArea = lengthRoom * widthRoom\n",
    "volumeRoom = lengthRoom * widthRoom * heightRoom"
   ]
  },
  {
   "cell_type": "markdown",
   "id": "fe9ebfa3-43a9-4b4c-9280-ff40d4060c45",
   "metadata": {
    "tags": []
   },
   "source": [
    "### Environmental Parameters"
   ]
  },
  {
   "cell_type": "code",
   "execution_count": 36,
   "id": "5d5bdb1f-cc14-44f7-8989-69f6af49ffb2",
   "metadata": {
    "tags": []
   },
   "outputs": [],
   "source": [
    "pressure = 0.95 #atm, Used only for CO2 calculation\n",
    "temperature = 20 # C, Use web converter if needed for F --> C. Used for CO2 calculation, eventually for survival rate of virus\n",
    "relativeHumidity = 50 # percentage, Not yet used, but may eventually be used for survival rate of virus\n",
    "backgroundCO2 = 415 # ppm "
   ]
  },
  {
   "cell_type": "markdown",
   "id": "2c8e7d5f-05a5-4ff1-a313-632f5a738e23",
   "metadata": {
    "tags": []
   },
   "source": [
    "### Occupants"
   ]
  },
  {
   "cell_type": "code",
   "execution_count": 37,
   "id": "a8dddfaa-7f21-4a6f-99ff-f0a36c4743ee",
   "metadata": {
    "tags": []
   },
   "outputs": [],
   "source": [
    "numPeople = 75\n",
    "\n",
    "# N.B. Modified variable names to correspond with SIR models\n",
    "I_0 = 1 # number of infected people at time 0\n",
    "# r_0 = 0.06 # fraction of people recovered at time 0 \n",
    "r_0 = 0 \n",
    "S_0 = (numPeople - I_0)*(1 - r_0) #number of susceptible people at time 0\n",
    "\n",
    "# display(S_0)\n",
    "\n",
    "density_AreaPerPerson = floorArea/(ft_to_meter**2)/numPeople #sq ft / person \n",
    "density_PeoplePerArea = numPeople/floorArea\n",
    "density_VolumePerPerson = volumeRoom/numPeople\n",
    "\n",
    "# display(density_AreaPerPerson)\n",
    "# display(density_PeoplePerArea)\n",
    "# display(density_VolumePerPerson)"
   ]
  },
  {
   "cell_type": "markdown",
   "id": "1febb8a5-a25d-4c33-b00d-66c1b8a666d4",
   "metadata": {
    "tags": []
   },
   "source": [
    "#### Breath parameters"
   ]
  },
  {
   "cell_type": "code",
   "execution_count": 38,
   "id": "724be13d-26cf-4e25-ac7d-4686f57a18bc",
   "metadata": {
    "tags": []
   },
   "outputs": [],
   "source": [
    "breathingRate = 0.012 * min_per_hour #See Readme sheet  - varies a lot with activity level\n",
    "# as best as I can tell, this comes from a moderate intensity breath rate for people ages 16 - 21\n",
    "# but I'm not really sure where this number comes from \n",
    "# Why is this value higher than the choir? \n",
    "\n",
    "basicBreathingRate = 0.0048 * min_per_hour # m3 / h, for a sedentary person in the 41 - 51 age groups (ASSUMPTION)\n",
    "relBreathingRateFactor = breathingRate/basicBreathingRate\n",
    "\n",
    "co2EmissionRate_person = 0.00675 # L/s (@ 273 K and 1 atm), From tables in Readme page. This does not affect infection calculation, only use of CO2 as indicator, could ignore\n",
    "# could be completely incorrect for singing\n",
    "co2EmissionRate_total = co2EmissionRate_person*numPeople*(1/pressure)*(C_to_Kelvin+temperature)/C_to_Kelvin # L/s (@ at actual P & T of room)\n",
    "\n",
    "# display(relBreathingRateFactor)\n",
    "# display(co2EmissionRate_total)"
   ]
  },
  {
   "cell_type": "code",
   "execution_count": 39,
   "id": "d99186a5-8202-493a-be66-dd5097f9ae97",
   "metadata": {
    "tags": []
   },
   "outputs": [],
   "source": [
    "quantaExhalationRate = 18.6 # infectious doses (quanta) h-1, this is very uncertain\n",
    "# The 5th and 95th percentiles of the Ep0 values are 8.4 and 48.1 quanta h−1, respectively.(Peng 2022)\n",
    "variantEnhancement = 2.5 # Q. enhancement due to variants (omicron here)\n",
    "vocalEnhancement = 5.0 # Q enhancement due to vocal. & act., Dimensionless (ratio to breathing)\n",
    "# this value was not cited so I don't know where this came from\n",
    "\n",
    "infectedQuantaExhalationRate = quantaExhalationRate * variantEnhancement * vocalEnhancement\n",
    "\n",
    "# display(infectedQuantaExhalationRate)"
   ]
  },
  {
   "cell_type": "markdown",
   "id": "ddccd4e0-9e88-44b5-a576-25d44b04e52f",
   "metadata": {
    "tags": []
   },
   "source": [
    "##### Masking (none in this experiment)"
   ]
  },
  {
   "cell_type": "code",
   "execution_count": 40,
   "id": "24cec18b-5c37-467c-8925-6af9996ad78a",
   "metadata": {
    "tags": []
   },
   "outputs": [],
   "source": [
    "exhalationMaskEfficiency = 0.5\n",
    "propPeopleWithMasks = 1\n",
    "inhalationMaskEfficiency = 0.3"
   ]
  },
  {
   "cell_type": "markdown",
   "id": "a42ebbac-1e8f-4804-a726-2ec2160335de",
   "metadata": {
    "tags": []
   },
   "source": [
    "### Event Parameters"
   ]
  },
  {
   "cell_type": "code",
   "execution_count": 41,
   "id": "efc30e2d-0b58-4e6d-99bd-398590bfd0bc",
   "metadata": {
    "tags": []
   },
   "outputs": [],
   "source": [
    "eventDuration_mins = 480 # for a worker in the supermarket\n",
    "eventDuration = eventDuration_mins/min_per_hour # hours\n",
    "# eventRepetitions = 21 # number of supermarket met per month?\n",
    "eventRepetitions = 1\n",
    "\n",
    "# ventilation,  ventilation rate of 1 h-1 does not mean that 100% of the air is replaced in 1 h.\n",
    "ventilationRate = 3 # h^-1, this may be low\n",
    "virusDecayRate = 0.62 # h^-1, from literature. Uncertain parameter\n",
    "depositionRate = 0.3 # h^-1,  Buonnano et al. (2020), Miller et al. (2020). Could vary 0.24-1.5 h-1, depending on particle size range\n",
    "additionalControlMeasureRate = 0 # h^-1, E.g. filtering of recirc. air, HEPA air cleaner, UV disinfection, etc. \n",
    "\n",
    "# Loss Rate\n",
    "firstOrderLossRate = ventilationRate + virusDecayRate + depositionRate + additionalControlMeasureRate"
   ]
  },
  {
   "cell_type": "code",
   "execution_count": 42,
   "id": "4f4524c2-5de3-4aef-b62a-461341e84050",
   "metadata": {
    "tags": []
   },
   "outputs": [],
   "source": [
    "ventilationPerPerson = (volumeRoom * (ventilationRate + additionalControlMeasureRate)/numPeople) # [m^3/hour/person] \n",
    "ventilationPerPerson = ventilationPerPerson*L_per_m3/(sec_per_min * min_per_hour) # [L/s/person]\n",
    "\n",
    "# display(ventilationPerPerson)"
   ]
  },
  {
   "cell_type": "markdown",
   "id": "fb6c01e4-b1d5-4ea8-a144-da47deadc987",
   "metadata": {
    "tags": []
   },
   "source": [
    "### Pathogen Parameters"
   ]
  },
  {
   "cell_type": "markdown",
   "id": "563fde3f-bfbc-40d9-a8ea-1627f5db2ae1",
   "metadata": {},
   "source": [
    "For now, for COVID-19, Omicron variant"
   ]
  },
  {
   "cell_type": "code",
   "execution_count": 43,
   "id": "d10d7c6c-3dc1-456b-97b1-e2811ac2e7ee",
   "metadata": {
    "tags": []
   },
   "outputs": [],
   "source": [
    "probInfective =0.001 # %, Very important parameter, specific for each region and time period. For ABSOLUTE results (prob. given prevalence of disease in the population). See Readme sheet\n",
    "# this is highly dependent on phase of epidemic and region \n",
    "\n",
    "hospitalizationRate = 10/100\n",
    "deathRate = 1/100\n",
    "\n",
    "# for this example, this is probably an artificially tuned"
   ]
  },
  {
   "cell_type": "markdown",
   "id": "0a812fa5-adda-417e-87b4-2ef245664d48",
   "metadata": {},
   "source": [
    "## Model Outputs"
   ]
  },
  {
   "cell_type": "markdown",
   "id": "7b66ca84-54d1-4d44-83d3-7b6830264f5f",
   "metadata": {},
   "source": [
    "### Main (calculate baseline emissions)"
   ]
  },
  {
   "cell_type": "code",
   "execution_count": 44,
   "id": "34af268b-82c9-407f-bd33-0cf6ebe5cd9b",
   "metadata": {
    "tags": []
   },
   "outputs": [
    {
     "name": "stdout",
     "output_type": "stream",
     "text": [
      "The net emission rate is 116.25\n",
      "The average quanta concentration is 0.013982623410689147\n",
      "The quanta inhalation per person is 0.05637793759189863\n",
      "----------\n",
      "The probability of infection is 0.05481815137327117\n",
      "The number of new cases is 4.056543201622067\n",
      "The infection risk is 0.31152683555857974 [h^2*person/m^3]\n",
      "The relative infection risk  is 0.00420982210214297[h^2/m^3]\n"
     ]
    }
   ],
   "source": [
    "roomParams = lengthRoom, widthRoom, heightRoom\n",
    "envParams = pressure, temperature, relativeHumidity, backgroundCO2 \n",
    "occupants = numPeople, I_0, s_0\n",
    "eventParams = eventDuration_mins, eventRepetitions\n",
    "breathParams = breathingRate, basicBreathingRate, co2EmissionRate_person \n",
    "enhancements = quantaExhalationRate, variantEnhancement, vocalEnhancement\n",
    "masking= exhalationMaskEfficiency, propPeopleWithMasks,inhalationMaskEfficiency\n",
    "ventilation = ventilationRate, virusDecayRate, depositionRate, additionalControlMeasureRate \n",
    "pathogenParams = probInfective, hospitalizationRate, deathRate \n",
    "\n",
    "supermarketParams = [volumeRoom, numPeople, I_0, eventDuration_mins, eventRepetitions, propPeopleWithMasks, firstOrderLossRate]\n",
    "\n",
    "netEmissionRate, avgQuantaConcentration, quantaInhaledPerPerson, probOfInf, numNewCases, infRiskParam, relInfRiskParam = main(roomParams, envParams, occupants, eventParams, breathParams, enhancements, masking, ventilation, pathogenParams)\n",
    "\n",
    "supermarketRes = [netEmissionRate, avgQuantaConcentration, quantaInhaledPerPerson, probOfInf, numNewCases, infRiskParam, relInfRiskParam]\n",
    "\n",
    "printTheResults(netEmissionRate, avgQuantaConcentration, quantaInhaledPerPerson, probOfInf, numNewCases, infRiskParam, relInfRiskParam)"
   ]
  },
  {
   "cell_type": "markdown",
   "id": "db74134b-5a51-42fe-9c5b-c0e6d67d5c2b",
   "metadata": {
    "tags": []
   },
   "source": [
    "# Stadium Example"
   ]
  },
  {
   "cell_type": "markdown",
   "id": "654586b6-2131-4719-be97-4cce4c13bbb0",
   "metadata": {
    "tags": []
   },
   "source": [
    "### Room Parameters"
   ]
  },
  {
   "cell_type": "code",
   "execution_count": 45,
   "id": "e44540b6-27f5-4bed-a736-158fb1d281b0",
   "metadata": {
    "tags": []
   },
   "outputs": [],
   "source": [
    "lengthRoom = 183 # m\n",
    "widthRoom = 91.5 # m\n",
    "heightRoom = 15.3 # m \n",
    "\n",
    "floorArea = lengthRoom * widthRoom\n",
    "volumeRoom = lengthRoom * widthRoom * heightRoom"
   ]
  },
  {
   "cell_type": "markdown",
   "id": "48ed7914-2b00-4f8d-a9ad-3a9039b796db",
   "metadata": {
    "tags": []
   },
   "source": [
    "### Environmental Parameters"
   ]
  },
  {
   "cell_type": "code",
   "execution_count": 46,
   "id": "52757cc4-ef99-44b9-b0ff-63085875ae89",
   "metadata": {
    "tags": []
   },
   "outputs": [],
   "source": [
    "pressure = 0.95 #atm, Used only for CO2 calculation\n",
    "temperature = 20 # C, Use web converter if needed for F --> C. Used for CO2 calculation, eventually for survival rate of virus\n",
    "relativeHumidity = 50 # percentage, Not yet used, but may eventually be used for survival rate of virus\n",
    "backgroundCO2 = 415 # ppm "
   ]
  },
  {
   "cell_type": "markdown",
   "id": "3d46ae16-4f6e-4cb8-ae48-7a8de4997c4e",
   "metadata": {
    "tags": []
   },
   "source": [
    "### Occupants"
   ]
  },
  {
   "cell_type": "code",
   "execution_count": 47,
   "id": "32b94423-0478-454d-9db7-bf0f2576fb4b",
   "metadata": {
    "tags": []
   },
   "outputs": [],
   "source": [
    "numPeople = 31000\n",
    "\n",
    "# N.B. Modified variable names to correspond with SIR models\n",
    "I_0 = 1 # number of infected people at time 0\n",
    "s_0 = 0 # fraction of people susceptible at time 0 \n",
    "S_0 = (numPeople - I_0)*(1 - s_0) #number of susceptible people at time 0\n",
    "\n",
    "# display(S_0)\n",
    "\n",
    "density_AreaPerPerson = floorArea/(ft_to_meter**2)/numPeople #sq ft / person \n",
    "density_PeoplePerArea = numPeople/floorArea\n",
    "density_VolumePerPerson = volumeRoom/numPeople\n",
    "\n",
    "# display(density_AreaPerPerson)\n",
    "# display(density_PeoplePerArea)\n",
    "# display(density_VolumePerPerson)"
   ]
  },
  {
   "cell_type": "markdown",
   "id": "0e037988-623f-48f5-93c2-49aa1dc48eca",
   "metadata": {
    "tags": []
   },
   "source": [
    "#### Breath parameters"
   ]
  },
  {
   "cell_type": "code",
   "execution_count": 48,
   "id": "dc31ab43-5d87-426b-9125-316361248bc5",
   "metadata": {
    "tags": []
   },
   "outputs": [],
   "source": [
    "breathingRate = 0.012 * min_per_hour #See Readme sheet  - varies a lot with activity level\n",
    "# as best as I can tell, this comes from a moderate intensity breath rate for people ages 16 - 21\n",
    "# but I'm not really sure where this number comes from \n",
    "# Why is this value higher than the choir? \n",
    "\n",
    "basicBreathingRate = 0.0048 * min_per_hour # m3 / h, for a sedentary person in the 41 - 51 age groups (ASSUMPTION)\n",
    "relBreathingRateFactor = breathingRate/basicBreathingRate\n",
    "\n",
    "co2EmissionRate_person = 0.0061 # L/s (@ 273 K and 1 atm), From tables in Readme page. This does not affect infection calculation, only use of CO2 as indicator, could ignore\n",
    "# could be completely incorrect for singing\n",
    "co2EmissionRate_total = co2EmissionRate_person*numPeople*(1/pressure)*(C_to_Kelvin+temperature)/C_to_Kelvin # L/s (@ at actual P & T of room)\n",
    "\n",
    "# display(relBreathingRateFactor)\n",
    "# display(co2EmissionRate_total)"
   ]
  },
  {
   "cell_type": "code",
   "execution_count": 49,
   "id": "d226a95f-b934-46a4-ac01-f1c3a83ff901",
   "metadata": {
    "tags": []
   },
   "outputs": [],
   "source": [
    "quantaExhalationRate = 18.6 # infectious doses (quanta) h-1, this is very uncertain\n",
    "# The 5th and 95th percentiles of the Ep0 values are 8.4 and 48.1 quanta h−1, respectively.(Peng 2022)\n",
    "variantEnhancement = 2.5 # Q. enhancement due to variants (omicron here)\n",
    "vocalEnhancement = 25.0 # Q enhancement due to vocal. & act., Dimensionless (ratio to breathing)\n",
    "# this value was not cited so I don't know where this came from\n",
    "\n",
    "infectedQuantaExhalationRate = quantaExhalationRate * variantEnhancement * vocalEnhancement\n",
    "\n",
    "# display(infectedQuantaExhalationRate)"
   ]
  },
  {
   "cell_type": "markdown",
   "id": "3ce2d7a0-a994-4912-8acc-e605dcc551b5",
   "metadata": {
    "tags": []
   },
   "source": [
    "##### Masking (none in this experiment)"
   ]
  },
  {
   "cell_type": "code",
   "execution_count": 50,
   "id": "a2494245-3410-4da7-90eb-5bfea0bce3e9",
   "metadata": {
    "tags": []
   },
   "outputs": [],
   "source": [
    "exhalationMaskEfficiency = 0\n",
    "propPeopleWithMasks = 0\n",
    "inhalationMaskEfficiency = 0"
   ]
  },
  {
   "cell_type": "markdown",
   "id": "bc2a8a2d-676d-45d2-a10c-c45209593f14",
   "metadata": {
    "tags": []
   },
   "source": [
    "### Event Parameters"
   ]
  },
  {
   "cell_type": "code",
   "execution_count": 51,
   "id": "ad0be4e7-b63a-4e5d-8be8-949c737c46d4",
   "metadata": {
    "tags": []
   },
   "outputs": [],
   "source": [
    "eventDuration_mins = 90 # assumed for soccer game\n",
    "eventDuration = eventDuration_mins/min_per_hour # hours\n",
    "eventRepetitions = 1 # number of stadium events\n",
    "\n",
    "# ventilation,  ventilation rate of 1 h-1 does not mean that 100% of the air is replaced in 1 h.\n",
    "ventilationRate = 40 # h^-1, this may be low\n",
    "virusDecayRate = 0.62 # h^-1, from literature. Uncertain parameter\n",
    "depositionRate = 0.3 # h^-1,  Buonnano et al. (2020), Miller et al. (2020). Could vary 0.24-1.5 h-1, depending on particle size range\n",
    "additionalControlMeasureRate = 0 # h^-1, E.g. filtering of recirc. air, HEPA air cleaner, UV disinfection, etc. \n",
    "\n",
    "# Loss Rate\n",
    "firstOrderLossRate = ventilationRate + virusDecayRate + depositionRate + additionalControlMeasureRate"
   ]
  },
  {
   "cell_type": "code",
   "execution_count": 52,
   "id": "901eddaf-3f5e-44e0-a497-a9f84f871649",
   "metadata": {
    "tags": []
   },
   "outputs": [],
   "source": [
    "ventilationPerPerson = (volumeRoom * (ventilationRate + additionalControlMeasureRate)/numPeople) # [m^3/hour/person] \n",
    "ventilationPerPerson = ventilationPerPerson*L_per_m3/(sec_per_min * min_per_hour) # [L/s/person]\n",
    "\n",
    "# display(ventilationPerPerson)"
   ]
  },
  {
   "cell_type": "markdown",
   "id": "2ce046d8-913a-443d-b9b9-39191b5f9338",
   "metadata": {
    "tags": []
   },
   "source": [
    "### Pathogen Parameters"
   ]
  },
  {
   "cell_type": "markdown",
   "id": "1e5eff78-83f5-4c4a-970f-9427db49e3b7",
   "metadata": {},
   "source": [
    "For now, for COVID-19, Omicron variant"
   ]
  },
  {
   "cell_type": "code",
   "execution_count": 53,
   "id": "3c0e73b6-79be-4b6a-8fbf-2d3a51f875d1",
   "metadata": {
    "tags": []
   },
   "outputs": [],
   "source": [
    "probInfective =0.002 # %, Very important parameter, specific for each region and time period. For ABSOLUTE results (prob. given prevalence of disease in the population). See Readme sheet\n",
    "# this is highly dependent on phase of epidemic and region \n",
    "\n",
    "hospitalizationRate = 10/100\n",
    "deathRate = 1/100\n",
    "\n",
    "# for this example, this is probably an artificially tuned"
   ]
  },
  {
   "cell_type": "markdown",
   "id": "2fffb15c-b152-496f-a2f9-57d2933dd50e",
   "metadata": {},
   "source": [
    "## Model Outputs"
   ]
  },
  {
   "cell_type": "markdown",
   "id": "92af1526-cba6-4907-9ad6-9da72da8ef51",
   "metadata": {},
   "source": [
    "### Main (calculate baseline emissions)"
   ]
  },
  {
   "cell_type": "code",
   "execution_count": 54,
   "id": "9e64bfed-41ca-4505-99de-6b09dab06cef",
   "metadata": {
    "tags": []
   },
   "outputs": [
    {
     "name": "stdout",
     "output_type": "stream",
     "text": [
      "The net emission rate is 1162.5\n",
      "The average quanta concentration is 0.00010908372164737749\n",
      "The quanta inhalation per person is 0.00011781041937916769\n",
      "----------\n",
      "The probability of infection is 0.00011780348000423047\n",
      "The number of new cases is 3.65179007665114\n",
      "The infection risk is 0.2727005070441173 [h^2*person/m^3]\n",
      "The relative infection risk  is 8.79707432640141e-06[h^2/m^3]\n"
     ]
    }
   ],
   "source": [
    "roomParams = lengthRoom, widthRoom, heightRoom\n",
    "envParams = pressure, temperature, relativeHumidity, backgroundCO2 \n",
    "occupants = numPeople, I_0, s_0\n",
    "eventParams = eventDuration_mins, eventRepetitions\n",
    "breathParams = breathingRate, basicBreathingRate, co2EmissionRate_person \n",
    "enhancements = quantaExhalationRate, variantEnhancement, vocalEnhancement\n",
    "masking= exhalationMaskEfficiency, propPeopleWithMasks,inhalationMaskEfficiency\n",
    "ventilation = ventilationRate, virusDecayRate, depositionRate, additionalControlMeasureRate \n",
    "pathogenParams = probInfective, hospitalizationRate, deathRate \n",
    "\n",
    "stadiumParams = [volumeRoom, numPeople, I_0, eventDuration_mins, eventRepetitions, propPeopleWithMasks, firstOrderLossRate]\n",
    "\n",
    "netEmissionRate, avgQuantaConcentration, quantaInhaledPerPerson, probOfInf, numNewCases, infRiskParam, relInfRiskParam = main(roomParams, envParams, occupants, eventParams, breathParams, enhancements, masking, ventilation, pathogenParams)\n",
    "\n",
    "stadiumRes = [netEmissionRate, avgQuantaConcentration, quantaInhaledPerPerson, probOfInf, numNewCases, infRiskParam, relInfRiskParam]\n",
    "printTheResults(netEmissionRate, avgQuantaConcentration, quantaInhaledPerPerson, probOfInf, numNewCases, infRiskParam, relInfRiskParam)"
   ]
  },
  {
   "cell_type": "markdown",
   "id": "0d48bf34-1e64-4b4c-95b6-74bd200465be",
   "metadata": {},
   "source": [
    "# Comparison"
   ]
  },
  {
   "cell_type": "code",
   "execution_count": 55,
   "id": "554ab53f-31ad-4884-8b0c-f9ca222d07ad",
   "metadata": {
    "tags": []
   },
   "outputs": [],
   "source": [
    "from prettytable import PrettyTable\n",
    "\n",
    "def printCompTable(choir, classroom, supermarket, subway, stadium):\n",
    "    table = [['Example', 'Prob of Infection', 'Number of New Cases', 'Infection Risk', 'Relative Infection Risk']]\n",
    "    tab = PrettyTable(table[0])\n",
    "    tab.add_rows(table[1:])\n",
    "    \n",
    "    [netEmissionRate, avgQuantaConcentration, quantaInhaledPerPerson, probOfInf, numNewCases, infRiskParam, relInfRiskParam] = choir\n",
    "    newRow = [['Choir', round(probOfInf,3), round(numNewCases,3), round(infRiskParam,3), round(relInfRiskParam,3) ]]\n",
    "    tab.add_rows(newRow[0:])\n",
    "    \n",
    "    [netEmissionRate, avgQuantaConcentration, quantaInhaledPerPerson, probOfInf, numNewCases, infRiskParam, relInfRiskParam] = classroom\n",
    "    newRow = [['Classroom', round(probOfInf,3), round(numNewCases,3), round(infRiskParam,3), round(relInfRiskParam,3) ]]\n",
    "    tab.add_rows(newRow[0:])\n",
    "    \n",
    "    [netEmissionRate, avgQuantaConcentration, quantaInhaledPerPerson, probOfInf, numNewCases, infRiskParam, relInfRiskParam] = supermarket\n",
    "    newRow = [['Supermarket', round(probOfInf,3), round(numNewCases,3), round(infRiskParam,3), round(relInfRiskParam,3) ]]\n",
    "    tab.add_rows(newRow[0:])\n",
    "    \n",
    "    [netEmissionRate, avgQuantaConcentration, quantaInhaledPerPerson, probOfInf, numNewCases, infRiskParam, relInfRiskParam] = subway\n",
    "    newRow = [['Subway', round(probOfInf,3), round(numNewCases,3), round(infRiskParam,3), round(relInfRiskParam,3) ]]\n",
    "    tab.add_rows(newRow[0:])\n",
    "    \n",
    "    [netEmissionRate, avgQuantaConcentration, quantaInhaledPerPerson, probOfInf, numNewCases, infRiskParam, relInfRiskParam] = stadium\n",
    "    newRow = [['Stadium', round(probOfInf,3), round(numNewCases,3), round(infRiskParam,3), round(relInfRiskParam,3) ]]\n",
    "    tab.add_rows(newRow[0:])\n",
    "        \n",
    "    return tab\n",
    "    "
   ]
  },
  {
   "cell_type": "code",
   "execution_count": 56,
   "id": "43dd54e9-1478-4c83-a91e-757c1c467bbc",
   "metadata": {},
   "outputs": [
    {
     "name": "stdout",
     "output_type": "stream",
     "text": [
      "+-------------+-------------------+---------------------+----------------+-------------------------+\n",
      "|   Example   | Prob of Infection | Number of New Cases | Infection Risk | Relative Infection Risk |\n",
      "+-------------+-------------------+---------------------+----------------+-------------------------+\n",
      "|    Choir    |       0.888       |        53.275       |     24.513     |          0.409          |\n",
      "|  Classroom  |       0.011       |        0.102        |     0.008      |          0.001          |\n",
      "| Supermarket |       0.055       |        4.057        |     0.312      |          0.004          |\n",
      "|    Subway   |       0.001       |        0.035        |     0.003      |           0.0           |\n",
      "|   Stadium   |        0.0        |        3.652        |     0.273      |           0.0           |\n",
      "+-------------+-------------------+---------------------+----------------+-------------------------+\n"
     ]
    }
   ],
   "source": [
    "tab = printCompTable(choirRes, classRes, supermarketRes, subwayRes, stadiumRes)\n",
    "print(tab)\n"
   ]
  },
  {
   "cell_type": "code",
   "execution_count": 57,
   "id": "d28386f4-7588-4ddd-8da2-61998133a177",
   "metadata": {},
   "outputs": [
    {
     "name": "stdout",
     "output_type": "stream",
     "text": [
      "+-------------+-------------------+---------------------+----------------+-------------------------+-------------+------------------+-----------------------+------------------------------+\n",
      "|   Example   | Prob of Infection | Number of New Cases | Infection Risk | Relative Infection Risk | Room Volume | Number of People | Event Duration (mins) | First Order Loss Rate [h^-1] |\n",
      "+-------------+-------------------+---------------------+----------------+-------------------------+-------------+------------------+-----------------------+------------------------------+\n",
      "|    Choir    |       0.888       |        53.275       |     24.513     |          0.409          |   808.128   |        61        |          150          |             1.62             |\n",
      "|  Classroom  |       0.011       |        0.102        |     0.008      |          0.001          |   143.716   |        10        |           50          |             3.92             |\n",
      "| Supermarket |       0.055       |        4.057        |     0.312      |          0.004          |   2053.26   |        75        |          480          |             3.92             |\n",
      "|    Subway   |       0.001       |        0.035        |     0.003      |           0.0           |   155.992   |        35        |           20          |            10.22             |\n",
      "|   Stadium   |        0.0        |        3.652        |     0.273      |           0.0           |  256190.85  |      31000       |           90          |            40.92             |\n",
      "+-------------+-------------------+---------------------+----------------+-------------------------+-------------+------------------+-----------------------+------------------------------+\n"
     ]
    }
   ],
   "source": [
    "tab = printCompTable(choirRes, classRes, supermarketRes, subwayRes, stadiumRes)\n",
    "\n",
    "tab.add_column(\"Room Volume\", [round(choirParams[0],3), round(classParams[0],3), round(supermarketParams[0],3), round(subwayParams[0],3), round(stadiumParams[0],3)])\n",
    "tab.add_column(\"Number of People\", [choirParams[1], classParams[1], supermarketParams[1], subwayParams[1], stadiumParams[1]])\n",
    "tab.add_column(\"Event Duration (mins)\", [choirParams[3], classParams[3], supermarketParams[3], subwayParams[3], stadiumParams[3]])\n",
    "tab.add_column(\"First Order Loss Rate [h^-1]\", [round(choirParams[6],3), round(classParams[6],3), round(supermarketParams[6],3), round(subwayParams[6],3), round(stadiumParams[6],3)])\n",
    "\n",
    "print(tab)"
   ]
  },
  {
   "cell_type": "code",
   "execution_count": null,
   "id": "7f30ebb3-0243-44ed-be21-1391853351d3",
   "metadata": {},
   "outputs": [],
   "source": []
  }
 ],
 "metadata": {
  "kernelspec": {
   "display_name": "sol_env",
   "language": "python",
   "name": "sol_env"
  },
  "language_info": {
   "codemirror_mode": {
    "name": "ipython",
    "version": 3
   },
   "file_extension": ".py",
   "mimetype": "text/x-python",
   "name": "python",
   "nbconvert_exporter": "python",
   "pygments_lexer": "ipython3",
   "version": "3.10.6"
  }
 },
 "nbformat": 4,
 "nbformat_minor": 5
}
